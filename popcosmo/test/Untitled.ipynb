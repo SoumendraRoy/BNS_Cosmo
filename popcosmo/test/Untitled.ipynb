{
 "cells": [
  {
   "cell_type": "code",
   "execution_count": 2,
   "id": "db8b9613",
   "metadata": {},
   "outputs": [],
   "source": [
    "import numpy as np\n",
    "import matplotlib.pyplot as plt\n",
    "\n",
    "import astropy.cosmology as cosmo\n",
    "import astropy.units as u"
   ]
  },
  {
   "cell_type": "code",
   "execution_count": 3,
   "id": "88189f69",
   "metadata": {},
   "outputs": [],
   "source": [
    "cp = cosmo.Planck15\n",
    "zmax = cosmo.z_at_value(cp.luminosity_distance, 330*u.Mpc).value"
   ]
  },
  {
   "cell_type": "code",
   "execution_count": 4,
   "id": "6e822499",
   "metadata": {},
   "outputs": [
    {
     "name": "stdout",
     "output_type": "stream",
     "text": [
      "0.07081197119717378\n"
     ]
    }
   ],
   "source": [
    "print(zmax)"
   ]
  },
  {
   "cell_type": "code",
   "execution_count": 12,
   "id": "31e12062",
   "metadata": {},
   "outputs": [
    {
     "name": "stdout",
     "output_type": "stream",
     "text": [
      "[0.03557785 0.06691997 0.06820499 0.06320463]\n"
     ]
    },
    {
     "data": {
      "text/plain": [
       "(array([1., 0., 0., 0., 0., 0., 0., 0., 1., 2.]),\n",
       " array([0.03557785, 0.03884056, 0.04210328, 0.04536599, 0.04862871,\n",
       "        0.05189142, 0.05515413, 0.05841685, 0.06167956, 0.06494228,\n",
       "        0.06820499]),\n",
       " <BarContainer object of 10 artists>)"
      ]
     },
     "execution_count": 12,
     "metadata": {},
     "output_type": "execute_result"
    },
    {
     "data": {
      "image/png": "[encoded data removed]",
      "text/plain": [
       "<Figure size 432x288 with 1 Axes>"
      ]
     },
     "metadata": {
      "needs_background": "light"
     },
     "output_type": "display_data"
    }
   ],
   "source": [
    "z = np.random.beta(3, 9, 100000)*10\n",
    "print(z[z<zmax])\n",
    "plt.hist(z[z<zmax])"
   ]
  },
  {
   "cell_type": "code",
   "execution_count": null,
   "id": "02167056",
   "metadata": {},
   "outputs": [],
   "source": []
  }
 ],
 "metadata": {
  "kernelspec": {
   "display_name": "Python 3 (ipykernel)",
   "language": "python",
   "name": "python3"
  },
  "language_info": {
   "codemirror_mode": {
    "name": "ipython",
    "version": 3
   },
   "file_extension": ".py",
   "mimetype": "text/x-python",
   "name": "python",
   "nbconvert_exporter": "python",
   "pygments_lexer": "ipython3",
   "version": "3.9.13"
  }
 },
 "nbformat": 4,
 "nbformat_minor": 5
}
