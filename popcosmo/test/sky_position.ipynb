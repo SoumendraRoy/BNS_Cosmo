{
 "cells": [
  {
   "cell_type": "code",
   "execution_count": 7,
   "id": "f31d62cc-2425-44d3-af55-6faacc505ad0",
   "metadata": {},
   "outputs": [],
   "source": [
    "import numpy as np\n",
    "import matplotlib.pyplot as plt\n",
    "\n",
    "import h5py\n",
    "\n",
    "import bilby"
   ]
  },
  {
   "cell_type": "code",
   "execution_count": 3,
   "id": "b967c1a8-1418-47b1-bf7b-977e6742fb8a",
   "metadata": {},
   "outputs": [
    {
     "data": {
      "text/plain": [
       "(array([101.,  92.,  98.,  98., 103., 103., 106., 109., 102.,  88.]),\n",
       " array([0.01159696, 0.63831477, 1.26503257, 1.89175038, 2.51846818,\n",
       "        3.14518599, 3.77190379, 4.3986216 , 5.0253394 , 5.65205721,\n",
       "        6.27877501]),\n",
       " <BarContainer object of 10 artists>)"
      ]
     },
     "execution_count": 3,
     "metadata": {},
     "output_type": "execute_result"
    },
    {
     "data": {
      "image/png": "[encoded data removed]",
      "text/plain": [
       "<Figure size 432x288 with 1 Axes>"
      ]
     },
     "metadata": {
      "needs_background": "light"
     },
     "output_type": "display_data"
    }
   ],
   "source": [
    "Ns = 1000\n",
    "ra = np.random.uniform(0, 2*np.pi, Ns)\n",
    "plt.hist(ra)"
   ]
  },
  {
   "cell_type": "code",
   "execution_count": 4,
   "id": "92b48c9b-df99-457b-9998-f4fd0a9501f9",
   "metadata": {},
   "outputs": [
    {
     "data": {
      "text/plain": [
       "(array([ 37.,  84.,  94., 140., 146., 138., 140., 114.,  77.,  30.]),\n",
       " array([-1.51532824, -1.21526078, -0.91519331, -0.61512585, -0.31505839,\n",
       "        -0.01499092,  0.28507654,  0.585144  ,  0.88521147,  1.18527893,\n",
       "         1.48534639]),\n",
       " <BarContainer object of 10 artists>)"
      ]
     },
     "execution_count": 4,
     "metadata": {},
     "output_type": "execute_result"
    },
    {
     "data": {
      "image/png": "[encoded data removed]",
      "text/plain": [
       "<Figure size 432x288 with 1 Axes>"
      ]
     },
     "metadata": {
      "needs_background": "light"
     },
     "output_type": "display_data"
    }
   ],
   "source": [
    "dec=bilby.core.prior.analytical.Sine(minimum=0.,maximum=np.pi).sample(Ns)-np.pi/2.\n",
    "plt.hist(dec)"
   ]
  },
  {
   "cell_type": "code",
   "execution_count": 5,
   "id": "52e6bb0c-d78f-4776-91ba-17c7b6cb2ec6",
   "metadata": {},
   "outputs": [
    {
     "data": {
      "text/plain": [
       "(array([ 26.,  65., 104., 148., 170., 146., 147., 103.,  59.,  32.]),\n",
       " array([0.05358896, 0.36043469, 0.66728041, 0.97412614, 1.28097186,\n",
       "        1.58781759, 1.89466332, 2.20150904, 2.50835477, 2.81520049,\n",
       "        3.12204622]),\n",
       " <BarContainer object of 10 artists>)"
      ]
     },
     "execution_count": 5,
     "metadata": {},
     "output_type": "execute_result"
    },
    {
     "data": {
      "image/png": "[encoded data removed]",
      "text/plain": [
       "<Figure size 432x288 with 1 Axes>"
      ]
     },
     "metadata": {
      "needs_background": "light"
     },
     "output_type": "display_data"
    }
   ],
   "source": [
    "theta_jn=bilby.core.prior.analytical.Sine(minimum=0.,maximum=np.pi).sample(Ns)\n",
    "plt.hist(theta_jn)"
   ]
  },
  {
   "cell_type": "code",
   "execution_count": 6,
   "id": "74e8c7f6-5edc-4a78-803d-e71dc02930c6",
   "metadata": {},
   "outputs": [
    {
     "data": {
      "text/plain": [
       "(array([ 94.,  96., 113.,  98.,  96.,  88., 100., 109.,  97., 109.]),\n",
       " array([3.97102263e-03, 6.30736297e-01, 1.25750157e+00, 1.88426685e+00,\n",
       "        2.51103212e+00, 3.13779740e+00, 3.76456267e+00, 4.39132794e+00,\n",
       "        5.01809322e+00, 5.64485849e+00, 6.27162377e+00]),\n",
       " <BarContainer object of 10 artists>)"
      ]
     },
     "execution_count": 6,
     "metadata": {},
     "output_type": "execute_result"
    },
    {
     "data": {
      "image/png": "[encoded data removed]",
      "text/plain": [
       "<Figure size 432x288 with 1 Axes>"
      ]
     },
     "metadata": {
      "needs_background": "light"
     },
     "output_type": "display_data"
    }
   ],
   "source": [
    "psi = np.random.uniform(0, 2*np.pi, Ns)\n",
    "plt.hist(psi)"
   ]
  },
  {
   "cell_type": "code",
   "execution_count": 8,
   "id": "592f642e-1aaf-4de9-855a-05fbd2383910",
   "metadata": {},
   "outputs": [],
   "source": [
    "with h5py.File(\"sky_position_1000.h5\", \"w\") as file:\n",
    "    file.create_dataset('ra', data=ra)\n",
    "    file.create_dataset('dec', data=dec)\n",
    "    file.create_dataset('theta_jn', data=theta_jn)\n",
    "    file.create_dataset('psi', data=psi)\n",
    "file.close()"
   ]
  },
  {
   "cell_type": "code",
   "execution_count": null,
   "id": "d28b7b23-46b6-4ad7-b3fd-83d17f00e6f5",
   "metadata": {},
   "outputs": [],
   "source": []
  }
 ],
 "metadata": {
  "kernelspec": {
   "display_name": "Astrostatistics",
   "language": "python",
   "name": "astrostatistics"
  },
  "language_info": {
   "codemirror_mode": {
    "name": "ipython",
    "version": 3
   },
   "file_extension": ".py",
   "mimetype": "text/x-python",
   "name": "python",
   "nbconvert_exporter": "python",
   "pygments_lexer": "ipython3",
   "version": "3.9.13"
  }
 },
 "nbformat": 4,
 "nbformat_minor": 5
}
